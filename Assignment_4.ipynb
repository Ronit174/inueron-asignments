{
 "cells": [
  {
   "cell_type": "markdown",
   "id": "fe879665",
   "metadata": {},
   "source": [
    "#ANS-1\n",
    "[] -> These are square brackets which is used to define the empty list."
   ]
  },
  {
   "cell_type": "code",
   "execution_count": 7,
   "id": "eb6a5eea",
   "metadata": {},
   "outputs": [
    {
     "data": {
      "text/plain": [
       "[2, 4, 'hello', 8, 10]"
      ]
     },
     "execution_count": 7,
     "metadata": {},
     "output_type": "execute_result"
    }
   ],
   "source": [
    "#ANS-2\n",
    "spam=[2,4,6,8,10]\n",
    "spam[2] = 'hello'\n",
    "spam"
   ]
  },
  {
   "cell_type": "code",
   "execution_count": 9,
   "id": "a3e983e9",
   "metadata": {},
   "outputs": [
    {
     "data": {
      "text/plain": [
       "'d'"
      ]
     },
     "execution_count": 9,
     "metadata": {},
     "output_type": "execute_result"
    }
   ],
   "source": [
    "spam=['a','b','c','d']\n",
    "spam[int(int('3' * 2) / 11)]"
   ]
  },
  {
   "cell_type": "code",
   "execution_count": 12,
   "id": "7418d173",
   "metadata": {},
   "outputs": [
    {
     "data": {
      "text/plain": [
       "'d'"
      ]
     },
     "execution_count": 12,
     "metadata": {},
     "output_type": "execute_result"
    }
   ],
   "source": [
    "spam[-1]"
   ]
  },
  {
   "cell_type": "code",
   "execution_count": 15,
   "id": "47bf2f54",
   "metadata": {},
   "outputs": [
    {
     "data": {
      "text/plain": [
       "['a', 'c']"
      ]
     },
     "execution_count": 15,
     "metadata": {},
     "output_type": "execute_result"
    }
   ],
   "source": [
    "spam[::2]"
   ]
  },
  {
   "cell_type": "code",
   "execution_count": 19,
   "id": "e3a80f63",
   "metadata": {},
   "outputs": [],
   "source": [
    "bacon=[3.14, 'cat', 11, 'cat', True] "
   ]
  },
  {
   "cell_type": "code",
   "execution_count": 20,
   "id": "794a0ff5",
   "metadata": {},
   "outputs": [
    {
     "data": {
      "text/plain": [
       "1"
      ]
     },
     "execution_count": 20,
     "metadata": {},
     "output_type": "execute_result"
    }
   ],
   "source": [
    "bacon.index('cat')"
   ]
  },
  {
   "cell_type": "code",
   "execution_count": 21,
   "id": "53820f0e",
   "metadata": {},
   "outputs": [],
   "source": [
    "bacon.append(99)\n",
    "#the above statement add the value '99' at the end of the list."
   ]
  },
  {
   "cell_type": "code",
   "execution_count": 22,
   "id": "ef89c3d2",
   "metadata": {},
   "outputs": [
    {
     "data": {
      "text/plain": [
       "[3.14, 'cat', 11, 'cat', True, 99]"
      ]
     },
     "execution_count": 22,
     "metadata": {},
     "output_type": "execute_result"
    }
   ],
   "source": [
    "bacon"
   ]
  },
  {
   "cell_type": "code",
   "execution_count": 23,
   "id": "3fb5fe38",
   "metadata": {},
   "outputs": [
    {
     "data": {
      "text/plain": [
       "[3.14, 11, 'cat', True, 99]"
      ]
     },
     "execution_count": 23,
     "metadata": {},
     "output_type": "execute_result"
    }
   ],
   "source": [
    "bacon.remove('cat')\n",
    "bacon"
   ]
  },
  {
   "cell_type": "code",
   "execution_count": 24,
   "id": "6d7b7795",
   "metadata": {},
   "outputs": [],
   "source": [
    "# The above statement change the list by deleting the lowest index of 'cat'"
   ]
  },
  {
   "cell_type": "markdown",
   "id": "46e501f2",
   "metadata": {},
   "source": [
    "#ANS-9<br>\n",
    "list concatenation is the process of adding two lists by \"+\" operator.<br>\n",
    "list replication is the process in which we replicate the same string \"*\" operator."
   ]
  },
  {
   "cell_type": "markdown",
   "id": "9a870ef1",
   "metadata": {},
   "source": [
    "#ANS-10\n",
    "append() -> this function is used to append the value at the last of the string.\n",
    "insert()-> this function takes two argument first the index and then the value which is used to insert the value at the particular index."
   ]
  },
  {
   "cell_type": "markdown",
   "id": "c92ecbb7",
   "metadata": {},
   "source": [
    "ANS-11<br>\n",
    "two methods are - pop() and remove()"
   ]
  },
  {
   "cell_type": "markdown",
   "id": "758608d1",
   "metadata": {},
   "source": [
    "#ANS-12\n",
    "We can fetch data from the indexes in both string and lists but the only diffrence is list can store different value of different datatypes."
   ]
  },
  {
   "cell_type": "markdown",
   "id": "2fd57e08",
   "metadata": {},
   "source": [
    "ANS-13<br>\n",
    "Tuples are immutable where as lists are mutable."
   ]
  },
  {
   "cell_type": "code",
   "execution_count": 28,
   "id": "206dedd8",
   "metadata": {},
   "outputs": [],
   "source": [
    "# ANS-14<br>\n",
    "my_tuple = (42,)"
   ]
  },
  {
   "cell_type": "code",
   "execution_count": 29,
   "id": "e7c2ce9e",
   "metadata": {},
   "outputs": [
    {
     "data": {
      "text/plain": [
       "tuple"
      ]
     },
     "execution_count": 29,
     "metadata": {},
     "output_type": "execute_result"
    }
   ],
   "source": [
    "type(my_tuple)"
   ]
  },
  {
   "cell_type": "markdown",
   "id": "228a8865",
   "metadata": {},
   "source": [
    "#ANS-15<br>\n",
    "\n",
    "zip() -> is used to get list value's in tuple form."
   ]
  },
  {
   "cell_type": "markdown",
   "id": "b6ad031b",
   "metadata": {},
   "source": [
    "#ANS-16\n",
    "REFRENCES."
   ]
  },
  {
   "cell_type": "markdown",
   "id": "f79f65de",
   "metadata": {},
   "source": [
    "#ANS-17\n",
    "Deep copy is a process in which the copying process occurs recursively. It means first constructing a new collection object and then recursively populating it with copies of the child objects found in the original. In case of deep copy, a copy of object is copied in other object."
   ]
  }
 ],
 "metadata": {
  "kernelspec": {
   "display_name": "Python 3",
   "language": "python",
   "name": "python3"
  },
  "language_info": {
   "codemirror_mode": {
    "name": "ipython",
    "version": 3
   },
   "file_extension": ".py",
   "mimetype": "text/x-python",
   "name": "python",
   "nbconvert_exporter": "python",
   "pygments_lexer": "ipython3",
   "version": "3.8.8"
  }
 },
 "nbformat": 4,
 "nbformat_minor": 5
}
