{
 "cells": [
  {
   "cell_type": "markdown",
   "id": "1ac1b521",
   "metadata": {},
   "source": [
    "ANS-1<br>\n",
    "Escape character is '\\' backslash which is used to enter the illegal character by writing the character in front of the backslash."
   ]
  },
  {
   "cell_type": "markdown",
   "id": "a33ccca3",
   "metadata": {},
   "source": [
    "ANS-2<br>\n",
    "'\\n' -> is used to allow the data to print in next line.\n",
    "'\\t' -> is used to give a particular sum of 8 spaces between the data"
   ]
  },
  {
   "cell_type": "markdown",
   "id": "bf29dfd9",
   "metadata": {},
   "source": [
    "ANS-3<br>\n",
    "We can use  double backslash '\\\\' to insert a single backslash. "
   ]
  },
  {
   "cell_type": "markdown",
   "id": "f0655e15",
   "metadata": {},
   "source": [
    "ANS-4<br>\n",
    "The output value is correct because we put one backslash before the single inverted coma."
   ]
  },
  {
   "cell_type": "markdown",
   "id": "7cccae52",
   "metadata": {},
   "source": [
    "ANS-5<br>\n",
    "We can use \"end = ' '\" instead of '\\n'."
   ]
  },
  {
   "cell_type": "code",
   "execution_count": 2,
   "id": "ee32b2cf",
   "metadata": {},
   "outputs": [
    {
     "data": {
      "text/plain": [
       "'e'"
      ]
     },
     "execution_count": 2,
     "metadata": {},
     "output_type": "execute_result"
    }
   ],
   "source": [
    "#ANS-6\n",
    "\"Hello, world!\"[1]\n"
   ]
  },
  {
   "cell_type": "code",
   "execution_count": 3,
   "id": "bc30870a",
   "metadata": {},
   "outputs": [
    {
     "data": {
      "text/plain": [
       "'Hello'"
      ]
     },
     "execution_count": 3,
     "metadata": {},
     "output_type": "execute_result"
    }
   ],
   "source": [
    "#ANS-6\n",
    "\"Hello, world!\"[0:5]"
   ]
  },
  {
   "cell_type": "code",
   "execution_count": 4,
   "id": "ebd14650",
   "metadata": {},
   "outputs": [
    {
     "data": {
      "text/plain": [
       "'Hello'"
      ]
     },
     "execution_count": 4,
     "metadata": {},
     "output_type": "execute_result"
    }
   ],
   "source": [
    "#ANS-6\n",
    "\"Hello, world!\"[:5]"
   ]
  },
  {
   "cell_type": "code",
   "execution_count": 5,
   "id": "15f6ea19",
   "metadata": {},
   "outputs": [
    {
     "data": {
      "text/plain": [
       "'lo, world!'"
      ]
     },
     "execution_count": 5,
     "metadata": {},
     "output_type": "execute_result"
    }
   ],
   "source": [
    "#ANS-6\n",
    "\"Hello, world!\"[3:]"
   ]
  },
  {
   "cell_type": "code",
   "execution_count": 6,
   "id": "fe57e450",
   "metadata": {},
   "outputs": [
    {
     "data": {
      "text/plain": [
       "'HELLO'"
      ]
     },
     "execution_count": 6,
     "metadata": {},
     "output_type": "execute_result"
    }
   ],
   "source": [
    "#ANS-7\n",
    "'Hello'.upper()"
   ]
  },
  {
   "cell_type": "code",
   "execution_count": 7,
   "id": "7c5c48e9",
   "metadata": {},
   "outputs": [
    {
     "data": {
      "text/plain": [
       "True"
      ]
     },
     "execution_count": 7,
     "metadata": {},
     "output_type": "execute_result"
    }
   ],
   "source": [
    "#ANS-7\n",
    "'Hello'.upper().isupper()"
   ]
  },
  {
   "cell_type": "code",
   "execution_count": 8,
   "id": "c3dcd1e0",
   "metadata": {},
   "outputs": [
    {
     "data": {
      "text/plain": [
       "'hello'"
      ]
     },
     "execution_count": 8,
     "metadata": {},
     "output_type": "execute_result"
    }
   ],
   "source": [
    "#ANS-7\n",
    "'Hello'.upper().lower()"
   ]
  },
  {
   "cell_type": "code",
   "execution_count": 9,
   "id": "79d747d9",
   "metadata": {},
   "outputs": [
    {
     "data": {
      "text/plain": [
       "['Remember,', 'remember,', 'the', 'fifth', 'of', 'July.']"
      ]
     },
     "execution_count": 9,
     "metadata": {},
     "output_type": "execute_result"
    }
   ],
   "source": [
    "#ANS-8\n",
    "'Remember, remember, the fifth of July.'.split()"
   ]
  },
  {
   "cell_type": "code",
   "execution_count": 12,
   "id": "e7ebf8fb",
   "metadata": {},
   "outputs": [
    {
     "data": {
      "text/plain": [
       "'There-can-only-one.'"
      ]
     },
     "execution_count": 12,
     "metadata": {},
     "output_type": "execute_result"
    }
   ],
   "source": [
    "#ANS-8\n",
    "'-'.join('There can only one.'.split())"
   ]
  },
  {
   "cell_type": "code",
   "execution_count": null,
   "id": "e2bf014c",
   "metadata": {},
   "outputs": [],
   "source": [
    "#ANS-9\n",
    "left-justifying -> ljust()\n",
    "right-justifying -> rjust()\n",
    "center_justifying -> center()"
   ]
  },
  {
   "cell_type": "code",
   "execution_count": null,
   "id": "599df8ae",
   "metadata": {},
   "outputs": [],
   "source": [
    "#ANS-10\n",
    "trim()"
   ]
  }
 ],
 "metadata": {
  "kernelspec": {
   "display_name": "Python 3",
   "language": "python",
   "name": "python3"
  },
  "language_info": {
   "codemirror_mode": {
    "name": "ipython",
    "version": 3
   },
   "file_extension": ".py",
   "mimetype": "text/x-python",
   "name": "python",
   "nbconvert_exporter": "python",
   "pygments_lexer": "ipython3",
   "version": "3.8.8"
  }
 },
 "nbformat": 4,
 "nbformat_minor": 5
}
