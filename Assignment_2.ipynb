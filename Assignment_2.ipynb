{
 "cells": [
  {
   "cell_type": "markdown",
   "id": "2f57f190",
   "metadata": {},
   "source": [
    "ANS1- The two values of boolean data types are TRUE and FALSE.<br>\n",
    "We can write them as 'True' and 'False'."
   ]
  },
  {
   "cell_type": "markdown",
   "id": "ba9a52c3",
   "metadata": {},
   "source": [
    "ANS2 - There are three different types of boolean operators.<br>\n",
    "i-AND('&&' or 'and')\n",
    "ii- OR('||' or 'or')\n",
    "iii - NOT(not)"
   ]
  },
  {
   "cell_type": "markdown",
   "id": "e1607a3e",
   "metadata": {},
   "source": [
    "ANS3-\n",
    "1-AND<br>\n",
    "True and False = False<br>\n",
    "False and True = False<br>\n",
    "True and True = True<br>\n",
    "False and False = False<br>\n",
    "\n",
    "2-OR<br>\n",
    "True or False = True<br>\n",
    "True or True = True<br>\n",
    "False or True = True<br>\n",
    "False or False = False<br>\n",
    "\n",
    "3-NOT<br>\n",
    "not(True)=False<br>\n",
    "not(False)=True<br>"
   ]
  },
  {
   "cell_type": "markdown",
   "id": "8de9c4a7",
   "metadata": {},
   "source": [
    "ANS4- False,False,True,False,False,True"
   ]
  },
  {
   "cell_type": "markdown",
   "id": "6bf6ac50",
   "metadata": {},
   "source": [
    "ANS5 -\n",
    "1- == (EQUAL TO)\n",
    "2- != (NOT EQUAL TO)\n",
    "3- < (LESS THAN)\n",
    "4- <= (LESS THAN EQUAL TO)\n",
    "5- > (GREATER THAN)\n",
    "6- >=(GREATER THAN EQUAL TO)"
   ]
  },
  {
   "cell_type": "markdown",
   "id": "56fbf851",
   "metadata": {},
   "source": [
    "ANS6 -<br>\n",
    "We write equal to as '==' while assigment as '='. The differnece between both of them is we use 'equal to' to check some values or conditions where as we use assignment operator to assign the value to the variable."
   ]
  },
  {
   "cell_type": "markdown",
   "id": "2efb2148",
   "metadata": {},
   "source": [
    "ANS7-<br>\n",
    "spam = 0\n",
    "if spam == 10:\n",
    "    print(&#39;eggs&#39;)\n",
    "if spam &gt; 5:\n",
    "    print(&#39;bacon&#39;)\n",
    "else:\n",
    "    print(&#39;ham&#39;)\n",
    "    print(&#39;spam&#39;)\n",
    "    print(&#39;spam&#39;)"
   ]
  },
  {
   "cell_type": "code",
   "execution_count": 40,
   "id": "2163bd3f",
   "metadata": {},
   "outputs": [
    {
     "name": "stdout",
     "output_type": "stream",
     "text": [
      "Greetings\n"
     ]
    }
   ],
   "source": [
    "ANS8-\n",
    "spam = 34\n",
    "if spam == 1:\n",
    "    print(\"Hello\")\n",
    "elif spam == 2:\n",
    "    print(\"Howdy\")\n",
    "else :\n",
    "    print(\"Greetings\")"
   ]
  },
  {
   "cell_type": "markdown",
   "id": "e7963679",
   "metadata": {},
   "source": [
    "ANS9-<br>\n",
    "Ctrl+c"
   ]
  },
  {
   "cell_type": "markdown",
   "id": "0d11f8af",
   "metadata": {},
   "source": [
    "ANS10-<br>\n",
    "BREAK- When we use break it terminates the current loop and pass the control over to the next loop or main body.\n",
    "CONTINUE- When we use continue it helps us to skip the current iteration or command and pass it to the very next iteration or command in the loop."
   ]
  },
  {
   "cell_type": "markdown",
   "id": "b2ef962a",
   "metadata": {},
   "source": [
    "ANS 11- <br>\n",
    "There is no differnce between any of the three of them they both print the same output i.e., values from 0 to 9 ."
   ]
  },
  {
   "cell_type": "markdown",
   "id": "728ba4c4",
   "metadata": {},
   "source": [
    "ANS-12"
   ]
  },
  {
   "cell_type": "code",
   "execution_count": 45,
   "id": "373a8156",
   "metadata": {},
   "outputs": [
    {
     "name": "stdout",
     "output_type": "stream",
     "text": [
      "1\n",
      "2\n",
      "3\n",
      "4\n",
      "5\n",
      "6\n",
      "7\n",
      "8\n",
      "9\n",
      "10\n"
     ]
    }
   ],
   "source": [
    "#FOR LOOP\n",
    "for i in range(1,11):\n",
    "    print(i)"
   ]
  },
  {
   "cell_type": "code",
   "execution_count": 49,
   "id": "f14eafd1",
   "metadata": {},
   "outputs": [
    {
     "name": "stdout",
     "output_type": "stream",
     "text": [
      "1\n",
      "2\n",
      "3\n",
      "4\n",
      "5\n",
      "6\n",
      "7\n",
      "8\n",
      "9\n",
      "10\n"
     ]
    }
   ],
   "source": [
    "#WHILE LOOP\n",
    "i = 1\n",
    "while(i<=10):\n",
    "    print(i)\n",
    "    i=i+1"
   ]
  },
  {
   "cell_type": "markdown",
   "id": "d874e660",
   "metadata": {},
   "source": [
    "ANS13-\n",
    "spam.bacon()"
   ]
  },
  {
   "cell_type": "code",
   "execution_count": null,
   "id": "c6909903",
   "metadata": {},
   "outputs": [],
   "source": []
  }
 ],
 "metadata": {
  "kernelspec": {
   "display_name": "Python 3",
   "language": "python",
   "name": "python3"
  },
  "language_info": {
   "codemirror_mode": {
    "name": "ipython",
    "version": 3
   },
   "file_extension": ".py",
   "mimetype": "text/x-python",
   "name": "python",
   "nbconvert_exporter": "python",
   "pygments_lexer": "ipython3",
   "version": "3.8.8"
  }
 },
 "nbformat": 4,
 "nbformat_minor": 5
}
