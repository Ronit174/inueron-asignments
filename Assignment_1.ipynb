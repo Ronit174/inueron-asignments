{
 "cells": [
  {
   "cell_type": "markdown",
   "id": "460ebd53",
   "metadata": {},
   "source": [
    "<h1>Ans1</h1>"
   ]
  },
  {
   "cell_type": "markdown",
   "id": "fc6f949c",
   "metadata": {},
   "source": [
    "Values are - 'hello',-87.8,6<br>\n",
    "Expression are - *,-,/,+"
   ]
  },
  {
   "cell_type": "markdown",
   "id": "62e1e401",
   "metadata": {},
   "source": [
    "<h1>Ans2</h1>"
   ]
  },
  {
   "cell_type": "markdown",
   "id": "9270be9e",
   "metadata": {},
   "source": [
    "Anything which is inside in quotes or double quotes is known as string<br>\n",
    "While, variable is used to store any type of data ."
   ]
  },
  {
   "cell_type": "markdown",
   "id": "00d6995e",
   "metadata": {},
   "source": [
    "<h1>Ans3</h1>"
   ]
  },
  {
   "cell_type": "markdown",
   "id": "9eec49e5",
   "metadata": {},
   "source": [
    "1- integer\n",
    "2-float\n",
    "3-tuple"
   ]
  },
  {
   "cell_type": "markdown",
   "id": "3dd8b548",
   "metadata": {},
   "source": [
    "<h1>Ans4</h1>"
   ]
  },
  {
   "cell_type": "markdown",
   "id": "7e6f6f14",
   "metadata": {},
   "source": [
    "Expressions are made up of some variables ,operators etc.<br>\n",
    "Expressions just point out what the variable strores or what the following expression mean."
   ]
  },
  {
   "cell_type": "markdown",
   "id": "3fb55e02",
   "metadata": {},
   "source": [
    "<h1>Ans5</h1>"
   ]
  },
  {
   "cell_type": "markdown",
   "id": "c708de07",
   "metadata": {},
   "source": [
    "Expression represnts the value of variable while statements are designed to execute something."
   ]
  },
  {
   "cell_type": "markdown",
   "id": "ec1620d8",
   "metadata": {},
   "source": [
    "<h1>Ans6</h1>"
   ]
  },
  {
   "cell_type": "markdown",
   "id": "f7298343",
   "metadata": {},
   "source": [
    "value of bacon is 23"
   ]
  },
  {
   "cell_type": "markdown",
   "id": "716dc8b9",
   "metadata": {},
   "source": [
    "<h1>Ans7</h1>"
   ]
  },
  {
   "cell_type": "markdown",
   "id": "37e25ab1",
   "metadata": {},
   "source": [
    "both prints the same output i.e.- 'spamspamspam'"
   ]
  },
  {
   "cell_type": "markdown",
   "id": "d442aa15",
   "metadata": {},
   "source": [
    "<h1>Ans8</h1>"
   ]
  },
  {
   "cell_type": "markdown",
   "id": "19b709e8",
   "metadata": {},
   "source": [
    "We cannot name a variable starting with the number."
   ]
  },
  {
   "cell_type": "markdown",
   "id": "2e9437bb",
   "metadata": {},
   "source": [
    "<h1>Ans9</h1>"
   ]
  },
  {
   "cell_type": "markdown",
   "id": "479f4217",
   "metadata": {},
   "source": [
    "1- int()\n",
    "2-float()\n",
    "3-string()"
   ]
  },
  {
   "cell_type": "markdown",
   "id": "3b26f08f",
   "metadata": {},
   "source": [
    "<h1>Ans10</h1>"
   ]
  },
  {
   "cell_type": "markdown",
   "id": "092ba347",
   "metadata": {},
   "source": [
    "This statement only executes when all the values are the string. We have to put 99 in the quotes."
   ]
  },
  {
   "cell_type": "code",
   "execution_count": null,
   "id": "ba482ea4",
   "metadata": {},
   "outputs": [],
   "source": []
  }
 ],
 "metadata": {
  "kernelspec": {
   "display_name": "Python 3",
   "language": "python",
   "name": "python3"
  },
  "language_info": {
   "codemirror_mode": {
    "name": "ipython",
    "version": 3
   },
   "file_extension": ".py",
   "mimetype": "text/x-python",
   "name": "python",
   "nbconvert_exporter": "python",
   "pygments_lexer": "ipython3",
   "version": "3.8.8"
  }
 },
 "nbformat": 4,
 "nbformat_minor": 5
}
